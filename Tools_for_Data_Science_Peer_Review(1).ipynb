{
  "metadata": {
    "kernelspec": {
      "name": "python",
      "display_name": "Python (Pyodide)",
      "language": "python"
    },
    "language_info": {
      "codemirror_mode": {
        "name": "python",
        "version": 3
      },
      "file_extension": ".py",
      "mimetype": "text/x-python",
      "name": "python",
      "nbconvert_exporter": "python",
      "pygments_lexer": "ipython3",
      "version": "3.8"
    }
  },
  "nbformat_minor": 4,
  "nbformat": 4,
  "cells": [
    {
      "cell_type": "markdown",
      "source": "# Tools for Data Science Peer Review",
      "metadata": {}
    },
    {
      "cell_type": "markdown",
      "source": "The purpose of this assignment is for my peers to assess my knowledge of the course",
      "metadata": {}
    },
    {
      "cell_type": "markdown",
      "source": "Data Science Languages:\n1. SQL\n2. R\n3. Julia\n4. C++\n5. Python",
      "metadata": {}
    },
    {
      "cell_type": "markdown",
      "source": "Types of Data Science Libraries:\n1. Matplotlib\n2. Pandas\n3. NumPy\n4. TensorFlow\n5. Keras",
      "metadata": {}
    },
    {
      "cell_type": "markdown",
      "source": "| Data Science Tools |\n|----|\n| MatLab |\n| Apachi Spark |\n| Tableau |\n| SAS |",
      "metadata": {}
    },
    {
      "cell_type": "markdown",
      "source": "# Here are some Arithmatic Example statements:\n",
      "metadata": {}
    },
    {
      "cell_type": "code",
      "source": "# To multiply and add numbers\n(1+2)*3",
      "metadata": {
        "trusted": true
      },
      "outputs": [
        {
          "execution_count": 5,
          "output_type": "execute_result",
          "data": {
            "text/plain": "9"
          },
          "metadata": {}
        }
      ],
      "execution_count": 5
    },
    {
      "cell_type": "code",
      "source": "# Minutes to Hours conversion (assuming there are 360 minutes):\n360/60",
      "metadata": {
        "trusted": true
      },
      "outputs": [
        {
          "execution_count": 8,
          "output_type": "execute_result",
          "data": {
            "text/plain": "6.0"
          },
          "metadata": {}
        }
      ],
      "execution_count": 8
    },
    {
      "cell_type": "markdown",
      "source": "Here is an unordered list of objectives:\n* List Data Science Languages \n* List Data Science Tools \n* List Data Science Libraries \n* Diplay Understanding of GitHub and Jupyter ",
      "metadata": {}
    },
    {
      "cell_type": "markdown",
      "source": "# Author's Name: Aden Busby",
      "metadata": {}
    },
    {
      "cell_type": "code",
      "source": "",
      "metadata": {
        "trusted": true
      },
      "outputs": [],
      "execution_count": null
    }
  ]
}